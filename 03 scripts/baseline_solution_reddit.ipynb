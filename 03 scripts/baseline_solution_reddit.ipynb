{
  "cells": [
    {
      "metadata": {
        "collapsed": true,
        "_uuid": "8f2839f25d086af736a60e9eeb907d3b93b6e0e5",
        "_cell_guid": "b1076dfc-b9ad-4769-8c92-a6c4dae69d19",
        "trusted": false
      },
      "cell_type": "code",
      "source": "import numpy as np\nimport pandas as pd\nfrom sklearn.pipeline import make_pipeline, make_union\nfrom sklearn.model_selection import train_test_split\n\nfrom sklearn.feature_extraction.text import TfidfVectorizer\nfrom sklearn.linear_model import SGDRegressor\nfrom sklearn.base import BaseEstimator, TransformerMixin",
      "execution_count": null,
      "outputs": []
    },
    {
      "metadata": {
        "collapsed": true,
        "_uuid": "d629ff2d2480ee46fbb7e2d37f6b5fab8052498a",
        "_cell_guid": "79c7e3d0-c299-4dcb-8224-4455121ee9b0",
        "trusted": false
      },
      "cell_type": "code",
      "source": "def load_data(filename=\"../input/kaggledays-warsaw/train.csv\"):\n    data = pd.read_csv(filename, sep=\"\\t\", index_col='id')\n    msg = \"Reading the data ({} rows). Columns: {}\"\n    print(msg.format(len(data), data.columns))\n    # Select the columns (feel free to select more)\n    X = data.loc[:, ['question_text', 'answer_text']]\n    try:\n        y = data.loc[:, \"answer_score\"]\n    except KeyError: # There are no answers in the test file\n        return X, None\n    return X, y\nX, y = load_data()\nX_train, X_test, y_train, y_test = train_test_split(X, y)",
      "execution_count": null,
      "outputs": []
    },
    {
      "metadata": {
        "collapsed": true,
        "_uuid": "c99281e685c7ef1d4650d63d8d26404ffb1e47e7",
        "_cell_guid": "360abf1d-035b-47c6-b0e7-1ef2e3a87b26",
        "trusted": false
      },
      "cell_type": "code",
      "source": "def rmsle(y, y0):\n    assert len(y) == len(y0)\n    return np.sqrt(\n        np.mean((np.log1p(y) - np.log1p(y0)) ** 2)\n    )",
      "execution_count": null,
      "outputs": []
    },
    {
      "metadata": {
        "collapsed": true,
        "_uuid": "86c31305f944a7c7a73709abd25518e5c0027415",
        "_cell_guid": "f2177ca9-fea0-4c46-a9f6-ced7eb91a484",
        "trusted": false
      },
      "cell_type": "code",
      "source": "class FeatureSelector(BaseEstimator, TransformerMixin):\n    def __init__(self, columns, orient=None):\n        super(FeatureSelector, self).__init__()\n        self.columns = columns\n\n    def fit(self, X, *args, **kwargs):\n        return self\n\n    def transform(self, data, *args, **kwargs):\n        return data[self.columns].values\n\ndef build_model():\n    process_data = make_union(\n        make_pipeline(\n            FeatureSelector(\"question_text\"),\n            TfidfVectorizer(max_features=10, token_pattern=\"\\w+\"),\n        ),\n        make_pipeline(\n            FeatureSelector(\"answer_text\"),\n            TfidfVectorizer(max_features=10, token_pattern=\"\\w+\"),\n        ),\n    )\n\n    model = make_pipeline(\n         process_data,\n         SGDRegressor(),\n    )\n    return model",
      "execution_count": null,
      "outputs": []
    },
    {
      "metadata": {
        "collapsed": true,
        "_uuid": "da22b957767a0920ff8dd462c2de25cd39e64cf3",
        "_cell_guid": "b31d731d-44ae-4672-bd3b-7d73130d54d9",
        "trusted": false
      },
      "cell_type": "code",
      "source": "%%time\nmodel = build_model()\nmodel.fit(X_train, np.log1p(y_train))\n\ny_train_theor = np.expm1(model.predict(X_train))\ny_test_theor = np.expm1(model.predict(X_test))\nprint()\nprint(\"Training set\")\nprint(\"RMSLE:   \", rmsle(y_train, y_train_theor))\n\nprint(\"Test set\")\nprint(\"RMSLE:   \", rmsle(y_test, y_test_theor))",
      "execution_count": null,
      "outputs": []
    },
    {
      "metadata": {
        "collapsed": true,
        "_uuid": "5f718d634986863dff4cbd0ee6c988a79d449411",
        "_cell_guid": "d0d96bcf-9a3a-4211-bb3a-963b6840013c",
        "trusted": false
      },
      "cell_type": "code",
      "source": "X_val, _ = load_data('../input/kaggledays-warsaw/test.csv')\nsolution = pd.DataFrame(index=X_val.index)\nsolution['answer_score'] = np.expm1(model.predict(X_val))\nsolution.to_csv('submission.csv')",
      "execution_count": null,
      "outputs": []
    },
    {
      "metadata": {
        "_uuid": "065fe9502c0204077542b4bee5a6cd5086550234",
        "_cell_guid": "f117cdf8-8b58-439f-984e-fcfb08ecd51e",
        "trusted": false,
        "collapsed": true
      },
      "cell_type": "code",
      "source": "",
      "execution_count": null,
      "outputs": []
    },
    {
      "metadata": {
        "collapsed": true,
        "_uuid": "ab1a8aaf99c75878486c8b9b8b5d45056035e2f3",
        "_cell_guid": "99d8e925-3326-4a97-8bea-17a36ec8e045",
        "trusted": false
      },
      "cell_type": "code",
      "source": "",
      "execution_count": null,
      "outputs": []
    }
  ],
  "metadata": {
    "kernelspec": {
      "display_name": "Python 3",
      "language": "python",
      "name": "python3"
    },
    "language_info": {
      "name": "python",
      "version": "3.6.5",
      "mimetype": "text/x-python",
      "codemirror_mode": {
        "name": "ipython",
        "version": 3
      },
      "pygments_lexer": "ipython3",
      "nbconvert_exporter": "python",
      "file_extension": ".py"
    }
  },
  "nbformat": 4,
  "nbformat_minor": 1
}