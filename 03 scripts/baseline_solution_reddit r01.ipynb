{
 "cells": [
  {
   "cell_type": "code",
   "execution_count": null,
   "metadata": {
    "collapsed": false
   },
   "outputs": [],
   "source": []
  },
  {
   "cell_type": "code",
   "execution_count": 1,
   "metadata": {
    "collapsed": false
   },
   "outputs": [
    {
     "data": {
      "text/plain": [
       "'0.19.1'"
      ]
     },
     "execution_count": 1,
     "metadata": {},
     "output_type": "execute_result"
    }
   ],
   "source": [
    "import sklearn as sk\n",
    "sk.__version__"
   ]
  },
  {
   "cell_type": "code",
   "execution_count": 2,
   "metadata": {
    "collapsed": false,
    "scrolled": true
   },
   "outputs": [],
   "source": [
    "%%script false\n",
    "!pip install scikit-learn --upgrade\n",
    "!pip install -U scikit-learn"
   ]
  },
  {
   "cell_type": "code",
   "execution_count": 3,
   "metadata": {
    "_cell_guid": "b1076dfc-b9ad-4769-8c92-a6c4dae69d19",
    "_uuid": "8f2839f25d086af736a60e9eeb907d3b93b6e0e5",
    "collapsed": false
   },
   "outputs": [],
   "source": [
    "import numpy as np\n",
    "import pandas as pd\n",
    "from sklearn.pipeline import make_pipeline, make_union\n",
    "from sklearn.model_selection import train_test_split\n",
    "#from sklearn.cross_validation import train_test_split\n",
    "\n",
    "from sklearn.feature_extraction.text import TfidfVectorizer\n",
    "from sklearn.linear_model import SGDRegressor\n",
    "from sklearn.base import BaseEstimator, TransformerMixin"
   ]
  },
  {
   "cell_type": "code",
   "execution_count": 50,
   "metadata": {},
   "outputs": [
    {
     "name": "stdout",
     "output_type": "stream",
     "text": [
      "852885\n",
      "Index(['question_id', 'subreddit', 'question_utc', 'question_text',\n",
      "       'question_score', 'answer_utc', 'answer_text', 'answer_score'],\n",
      "      dtype='object')\n",
      "<class 'pandas.core.frame.DataFrame'>\n",
      "Int64Index: 852885 entries, 330435 to 2646893\n",
      "Data columns (total 8 columns):\n",
      "question_id       852885 non-null object\n",
      "subreddit         852885 non-null object\n",
      "question_utc      852885 non-null int64\n",
      "question_text     852885 non-null object\n",
      "question_score    852885 non-null int64\n",
      "answer_utc        852885 non-null int64\n",
      "answer_text       852885 non-null object\n",
      "answer_score      852885 non-null int64\n",
      "dtypes: int64(4), object(4)\n",
      "memory usage: 58.6+ MB\n"
     ]
    }
   ],
   "source": [
    "# Load data\n",
    "filename=\"./data/train.csv\"\n",
    "data = pd.read_csv(filename, sep=\"\\t\", index_col='id')\n",
    "print(len(data))\n",
    "print(data.columns)\n",
    "#msg = \"Reading the data ({} rows). Columns: {}\"\n",
    "data.describe()\n",
    "data.info()\n",
    "#print(msg.format(len(data), data.columns))\n"
   ]
  },
  {
   "cell_type": "code",
   "execution_count": 49,
   "metadata": {},
   "outputs": [
    {
     "data": {
      "text/html": [
       "<div>\n",
       "<style scoped>\n",
       "    .dataframe tbody tr th:only-of-type {\n",
       "        vertical-align: middle;\n",
       "    }\n",
       "\n",
       "    .dataframe tbody tr th {\n",
       "        vertical-align: top;\n",
       "    }\n",
       "\n",
       "    .dataframe thead th {\n",
       "        text-align: right;\n",
       "    }\n",
       "</style>\n",
       "<table border=\"1\" class=\"dataframe\">\n",
       "  <thead>\n",
       "    <tr style=\"text-align: right;\">\n",
       "      <th></th>\n",
       "      <th>question_id</th>\n",
       "      <th>subreddit</th>\n",
       "      <th>question_utc</th>\n",
       "      <th>question_text</th>\n",
       "      <th>question_score</th>\n",
       "      <th>answer_utc</th>\n",
       "      <th>answer_text</th>\n",
       "      <th>answer_score</th>\n",
       "    </tr>\n",
       "    <tr>\n",
       "      <th>id</th>\n",
       "      <th></th>\n",
       "      <th></th>\n",
       "      <th></th>\n",
       "      <th></th>\n",
       "      <th></th>\n",
       "      <th></th>\n",
       "      <th></th>\n",
       "      <th></th>\n",
       "    </tr>\n",
       "  </thead>\n",
       "  <tbody>\n",
       "    <tr>\n",
       "      <th>330435</th>\n",
       "      <td>f48a5420fa6a66ecec95365dd67bdc99</td>\n",
       "      <td>AskReddit</td>\n",
       "      <td>1512086400</td>\n",
       "      <td>All my buddies love Pacific Rim and always tal...</td>\n",
       "      <td>179</td>\n",
       "      <td>1512086616</td>\n",
       "      <td>I didn't really care for it, I thought the pac...</td>\n",
       "      <td>70</td>\n",
       "    </tr>\n",
       "    <tr>\n",
       "      <th>1944975</th>\n",
       "      <td>f48a5420fa6a66ecec95365dd67bdc99</td>\n",
       "      <td>AskReddit</td>\n",
       "      <td>1512086400</td>\n",
       "      <td>All my buddies love Pacific Rim and always tal...</td>\n",
       "      <td>179</td>\n",
       "      <td>1512090694</td>\n",
       "      <td>I thought it was hilarious, and I didn't reali...</td>\n",
       "      <td>24</td>\n",
       "    </tr>\n",
       "    <tr>\n",
       "      <th>2218735</th>\n",
       "      <td>f48a5420fa6a66ecec95365dd67bdc99</td>\n",
       "      <td>AskReddit</td>\n",
       "      <td>1512086400</td>\n",
       "      <td>All my buddies love Pacific Rim and always tal...</td>\n",
       "      <td>179</td>\n",
       "      <td>1512090763</td>\n",
       "      <td>&amp;gt; Pacific Rim  The porno, or the studio rel...</td>\n",
       "      <td>11</td>\n",
       "    </tr>\n",
       "    <tr>\n",
       "      <th>2133251</th>\n",
       "      <td>f48a5420fa6a66ecec95365dd67bdc99</td>\n",
       "      <td>AskReddit</td>\n",
       "      <td>1512086400</td>\n",
       "      <td>All my buddies love Pacific Rim and always tal...</td>\n",
       "      <td>179</td>\n",
       "      <td>1512091349</td>\n",
       "      <td>I enjoyed it more than most movies of that gen...</td>\n",
       "      <td>42</td>\n",
       "    </tr>\n",
       "    <tr>\n",
       "      <th>2133252</th>\n",
       "      <td>f48a5420fa6a66ecec95365dd67bdc99</td>\n",
       "      <td>AskReddit</td>\n",
       "      <td>1512086400</td>\n",
       "      <td>All my buddies love Pacific Rim and always tal...</td>\n",
       "      <td>179</td>\n",
       "      <td>1512133012</td>\n",
       "      <td>Its terrible, its clearly made to be a self aw...</td>\n",
       "      <td>1</td>\n",
       "    </tr>\n",
       "  </tbody>\n",
       "</table>\n",
       "</div>"
      ],
      "text/plain": [
       "                              question_id  subreddit  question_utc  \\\n",
       "id                                                                   \n",
       "330435   f48a5420fa6a66ecec95365dd67bdc99  AskReddit    1512086400   \n",
       "1944975  f48a5420fa6a66ecec95365dd67bdc99  AskReddit    1512086400   \n",
       "2218735  f48a5420fa6a66ecec95365dd67bdc99  AskReddit    1512086400   \n",
       "2133251  f48a5420fa6a66ecec95365dd67bdc99  AskReddit    1512086400   \n",
       "2133252  f48a5420fa6a66ecec95365dd67bdc99  AskReddit    1512086400   \n",
       "\n",
       "                                             question_text  question_score  \\\n",
       "id                                                                           \n",
       "330435   All my buddies love Pacific Rim and always tal...             179   \n",
       "1944975  All my buddies love Pacific Rim and always tal...             179   \n",
       "2218735  All my buddies love Pacific Rim and always tal...             179   \n",
       "2133251  All my buddies love Pacific Rim and always tal...             179   \n",
       "2133252  All my buddies love Pacific Rim and always tal...             179   \n",
       "\n",
       "         answer_utc                                        answer_text  \\\n",
       "id                                                                       \n",
       "330435   1512086616  I didn't really care for it, I thought the pac...   \n",
       "1944975  1512090694  I thought it was hilarious, and I didn't reali...   \n",
       "2218735  1512090763  &gt; Pacific Rim  The porno, or the studio rel...   \n",
       "2133251  1512091349  I enjoyed it more than most movies of that gen...   \n",
       "2133252  1512133012  Its terrible, its clearly made to be a self aw...   \n",
       "\n",
       "         answer_score  \n",
       "id                     \n",
       "330435             70  \n",
       "1944975            24  \n",
       "2218735            11  \n",
       "2133251            42  \n",
       "2133252             1  "
      ]
     },
     "execution_count": 49,
     "metadata": {},
     "output_type": "execute_result"
    }
   ],
   "source": [
    "data.head()"
   ]
  },
  {
   "cell_type": "code",
   "execution_count": 35,
   "metadata": {},
   "outputs": [],
   "source": [
    "# Select the columns (feel free to select more)\n",
    "#X = data.loc[:, ['question_text', 'answer_text']]\n",
    "y = data.loc[:, \"answer_score\"]\n",
    "X = data\n",
    "X.columns\n",
    "X = X.drop('answer_score',axis='columns')"
   ]
  },
  {
   "cell_type": "code",
   "execution_count": 37,
   "metadata": {
    "_cell_guid": "79c7e3d0-c299-4dcb-8224-4455121ee9b0",
    "_uuid": "d629ff2d2480ee46fbb7e2d37f6b5fab8052498a",
    "collapsed": false
   },
   "outputs": [],
   "source": [
    "%%script false\n",
    "def load_data(filename):\n",
    "    data = pd.read_csv(filename, sep=\"\\t\", index_col='id')\n",
    "    msg = \"Reading the data ({} rows). Columns: {}\"\n",
    "    print(msg.format(len(data), data.columns))\n",
    "    # Select the columns (feel free to select more)\n",
    "    X = data.loc[:, ['question_text', 'answer_text']]\n",
    "    try:\n",
    "        y = data.loc[:, \"answer_score\"]\n",
    "    except KeyError: # There are no answers in the test file\n",
    "        return X, None\n",
    "    return X, y\n",
    "#X, y = load_data(filename=\"../input/kaggledays-warsaw/train.csv\")\n",
    "X, y = load_data(filename=\"./data/train.csv\")\n",
    "\n",
    "X_train, X_test, y_train, y_test = train_test_split(X, y)"
   ]
  },
  {
   "cell_type": "code",
   "execution_count": 38,
   "metadata": {},
   "outputs": [],
   "source": [
    "X_train, X_test, y_train, y_test = train_test_split(X, y)"
   ]
  },
  {
   "cell_type": "code",
   "execution_count": 39,
   "metadata": {},
   "outputs": [
    {
     "name": "stdout",
     "output_type": "stream",
     "text": [
      "(639663, 7) (639663,)\n",
      "(213222, 7) (213222,)\n"
     ]
    }
   ],
   "source": [
    "print(X_train.shape,y_train.shape)\n",
    "print(X_test.shape,y_test.shape)"
   ]
  },
  {
   "cell_type": "code",
   "execution_count": 40,
   "metadata": {
    "_cell_guid": "360abf1d-035b-47c6-b0e7-1ef2e3a87b26",
    "_uuid": "c99281e685c7ef1d4650d63d8d26404ffb1e47e7",
    "collapsed": true
   },
   "outputs": [],
   "source": [
    "def rmsle(y, y0):\n",
    "    assert len(y) == len(y0)\n",
    "    return np.sqrt(\n",
    "        np.mean((np.log1p(y) - np.log1p(y0)) ** 2)\n",
    "    )"
   ]
  },
  {
   "cell_type": "code",
   "execution_count": 41,
   "metadata": {
    "_cell_guid": "f2177ca9-fea0-4c46-a9f6-ced7eb91a484",
    "_uuid": "86c31305f944a7c7a73709abd25518e5c0027415",
    "collapsed": true
   },
   "outputs": [],
   "source": [
    "class FeatureSelector(BaseEstimator, TransformerMixin):\n",
    "    def __init__(self, columns, orient=None):\n",
    "        super(FeatureSelector, self).__init__()\n",
    "        self.columns = columns\n",
    "\n",
    "    def fit(self, X, *args, **kwargs):\n",
    "        return self\n",
    "\n",
    "    def transform(self, data, *args, **kwargs):\n",
    "        return data[self.columns].values\n",
    "\n",
    "def build_model():\n",
    "    process_data = make_union(\n",
    "        make_pipeline(\n",
    "            FeatureSelector(\"question_text\"),\n",
    "            TfidfVectorizer(max_features=10, token_pattern=\"\\w+\"),\n",
    "        ),\n",
    "        make_pipeline(\n",
    "            FeatureSelector(\"answer_text\"),\n",
    "            TfidfVectorizer(max_features=10, token_pattern=\"\\w+\"),\n",
    "        ),\n",
    "    )\n",
    "\n",
    "    model = make_pipeline(\n",
    "         process_data,\n",
    "         SGDRegressor(),\n",
    "    )\n",
    "    return model"
   ]
  },
  {
   "cell_type": "code",
   "execution_count": 46,
   "metadata": {},
   "outputs": [
    {
     "name": "stdout",
     "output_type": "stream",
     "text": [
      "<class 'pandas.core.frame.DataFrame'>\n"
     ]
    }
   ],
   "source": [
    "print(type(X_train))"
   ]
  },
  {
   "cell_type": "code",
   "execution_count": 42,
   "metadata": {
    "collapsed": false
   },
   "outputs": [
    {
     "name": "stderr",
     "output_type": "stream",
     "text": [
      "/home/batman/anaconda3/lib/python3.6/site-packages/sklearn/linear_model/stochastic_gradient.py:128: FutureWarning: max_iter and tol parameters have been added in <class 'sklearn.linear_model.stochastic_gradient.SGDRegressor'> in 0.19. If both are left unset, they default to max_iter=5 and tol=None. If tol is not None, max_iter defaults to max_iter=1000. From 0.21, default max_iter will be 1000, and default tol will be 1e-3.\n",
      "  \"and default tol will be 1e-3.\" % type(self), FutureWarning)\n"
     ]
    },
    {
     "name": "stdout",
     "output_type": "stream",
     "text": [
      "CPU times: user 30 s, sys: 232 ms, total: 30.2 s\n",
      "Wall time: 29.4 s\n"
     ]
    }
   ],
   "source": [
    "%%time\n",
    "# FIT THE MODEL\n",
    "model = build_model()\n",
    "model.fit(X_train, np.log1p(y_train))"
   ]
  },
  {
   "cell_type": "code",
   "execution_count": 43,
   "metadata": {
    "collapsed": false
   },
   "outputs": [
    {
     "name": "stdout",
     "output_type": "stream",
     "text": [
      "CPU times: user 34.6 s, sys: 44 ms, total: 34.6 s\n",
      "Wall time: 33.6 s\n"
     ]
    }
   ],
   "source": [
    "%%time\n",
    "y_train = model.predict(X_train)\n",
    "y_test = model.predict(X_test)"
   ]
  },
  {
   "cell_type": "code",
   "execution_count": 44,
   "metadata": {
    "_cell_guid": "b31d731d-44ae-4672-bd3b-7d73130d54d9",
    "_uuid": "da22b957767a0920ff8dd462c2de25cd39e64cf3",
    "collapsed": false
   },
   "outputs": [
    {
     "name": "stdout",
     "output_type": "stream",
     "text": [
      "\n",
      "Training set\n",
      "RMSLE:    0.5511275577920076\n",
      "Test set\n",
      "RMSLE:    0.551289433584618\n"
     ]
    }
   ],
   "source": [
    "y_train_theor = np.expm1(y_train)\n",
    "y_test_theor = np.expm1(y_test)\n",
    "print()\n",
    "print(\"Training set\")\n",
    "print(\"RMSLE:   \", rmsle(y_train, y_train_theor))\n",
    "\n",
    "print(\"Test set\")\n",
    "print(\"RMSLE:   \", rmsle(y_test, y_test_theor))"
   ]
  },
  {
   "cell_type": "code",
   "execution_count": 45,
   "metadata": {
    "_cell_guid": "d0d96bcf-9a3a-4211-bb3a-963b6840013c",
    "_uuid": "5f718d634986863dff4cbd0ee6c988a79d449411",
    "collapsed": true
   },
   "outputs": [
    {
     "name": "stdout",
     "output_type": "stream",
     "text": [
      "Reading the data (663082 rows). Columns: Index(['question_id', 'subreddit', 'question_utc', 'question_text',\n",
      "       'question_score', 'answer_utc', 'answer_text'],\n",
      "      dtype='object')\n",
      "CPU times: user 32.4 s, sys: 200 ms, total: 32.6 s\n",
      "Wall time: 30.4 s\n"
     ]
    }
   ],
   "source": [
    "%%time\n",
    "\n",
    "#X_val, _ = load_data('../input/kaggledays-warsaw/test.csv')\n",
    "X_val, _ = load_data('./data/test.csv')\n",
    "\n",
    "solution = pd.DataFrame(index=X_val.index)\n",
    "solution['answer_score'] = np.expm1(model.predict(X_val))\n",
    "solution.to_csv('submission_baseline.csv')"
   ]
  },
  {
   "cell_type": "code",
   "execution_count": null,
   "metadata": {
    "_cell_guid": "f117cdf8-8b58-439f-984e-fcfb08ecd51e",
    "_uuid": "065fe9502c0204077542b4bee5a6cd5086550234",
    "collapsed": true
   },
   "outputs": [],
   "source": []
  },
  {
   "cell_type": "code",
   "execution_count": null,
   "metadata": {
    "_cell_guid": "99d8e925-3326-4a97-8bea-17a36ec8e045",
    "_uuid": "ab1a8aaf99c75878486c8b9b8b5d45056035e2f3",
    "collapsed": true
   },
   "outputs": [],
   "source": []
  }
 ],
 "metadata": {
  "kernelspec": {
   "display_name": "Python 3",
   "language": "python",
   "name": "python3"
  },
  "language_info": {
   "codemirror_mode": {
    "name": "ipython",
    "version": 3
   },
   "file_extension": ".py",
   "mimetype": "text/x-python",
   "name": "python",
   "nbconvert_exporter": "python",
   "pygments_lexer": "ipython3",
   "version": "3.6.5"
  }
 },
 "nbformat": 4,
 "nbformat_minor": 2
}
